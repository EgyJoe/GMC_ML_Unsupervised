{
 "cells": [
  {
   "cell_type": "code",
   "execution_count": 1,
   "metadata": {},
   "outputs": [],
   "source": [
    "import mlxtend\n",
    "import pandas as pd\n",
    "from mlxtend.preprocessing import TransactionEncoder\n",
    "te=TransactionEncoder()\n",
    "te_ary=te.fit(dataset).transform(dataset)    #Apply one-hot-encoding on our dataset\n",
    "df=pd.DataFrame(te_ary, columns=te.columns_)  #Creating a new DataFrame from our Numpy array\n",
    "df"
   ]
  }
 ],
 "metadata": {
  "interpreter": {
   "hash": "5440eb285807f6a6b5f27adaaa467ca1e98fbe8f986bb43ce029c634c16c726f"
  },
  "kernelspec": {
   "display_name": "Python 3.10.2 64-bit (windows store)",
   "language": "python",
   "name": "python3"
  },
  "language_info": {
   "codemirror_mode": {
    "name": "ipython",
    "version": 3
   },
   "file_extension": ".py",
   "mimetype": "text/x-python",
   "name": "python",
   "nbconvert_exporter": "python",
   "pygments_lexer": "ipython3",
   "version": "3.10.2"
  },
  "orig_nbformat": 4
 },
 "nbformat": 4,
 "nbformat_minor": 2
}
